{
 "cells": [
  {
   "cell_type": "markdown",
   "id": "5903f408-9997-4eb1-bc4a-7717ff7b010a",
   "metadata": {},
   "source": [
    "Question 1: Data Understanding"
   ]
  },
  {
   "cell_type": "code",
   "execution_count": 2,
   "id": "7e8e96c2-c716-4da2-9744-0e949e7fd86e",
   "metadata": {
    "tags": []
   },
   "outputs": [],
   "source": [
    "# Import the datasets\n",
    "import pandas as pd\n",
    "clickHistory = pd.read_csv(\"click_history.csv\")\n",
    "productFeatures = pd.read_csv(\"product_features.csv\")\n",
    "userFeatures = pd.read_csv(\"user_features.csv\")"
   ]
  },
  {
   "cell_type": "code",
   "execution_count": 3,
   "id": "978f5c35-94d0-4be9-91a9-aa584741af95",
   "metadata": {
    "tags": []
   },
   "outputs": [
    {
     "data": {
      "text/html": [
       "<div>\n",
       "<style scoped>\n",
       "    .dataframe tbody tr th:only-of-type {\n",
       "        vertical-align: middle;\n",
       "    }\n",
       "\n",
       "    .dataframe tbody tr th {\n",
       "        vertical-align: top;\n",
       "    }\n",
       "\n",
       "    .dataframe thead th {\n",
       "        text-align: right;\n",
       "    }\n",
       "</style>\n",
       "<table border=\"1\" class=\"dataframe\">\n",
       "  <thead>\n",
       "    <tr style=\"text-align: right;\">\n",
       "      <th></th>\n",
       "      <th>user_id</th>\n",
       "      <th>product_id</th>\n",
       "      <th>clicked</th>\n",
       "    </tr>\n",
       "  </thead>\n",
       "  <tbody>\n",
       "    <tr>\n",
       "      <th>0</th>\n",
       "      <td>104863</td>\n",
       "      <td>1350</td>\n",
       "      <td>False</td>\n",
       "    </tr>\n",
       "    <tr>\n",
       "      <th>1</th>\n",
       "      <td>108656</td>\n",
       "      <td>1321</td>\n",
       "      <td>True</td>\n",
       "    </tr>\n",
       "    <tr>\n",
       "      <th>2</th>\n",
       "      <td>100120</td>\n",
       "      <td>1110</td>\n",
       "      <td>False</td>\n",
       "    </tr>\n",
       "    <tr>\n",
       "      <th>3</th>\n",
       "      <td>104838</td>\n",
       "      <td>1443</td>\n",
       "      <td>True</td>\n",
       "    </tr>\n",
       "    <tr>\n",
       "      <th>4</th>\n",
       "      <td>107304</td>\n",
       "      <td>1397</td>\n",
       "      <td>True</td>\n",
       "    </tr>\n",
       "  </tbody>\n",
       "</table>\n",
       "</div>"
      ],
      "text/plain": [
       "   user_id  product_id  clicked\n",
       "0   104863        1350    False\n",
       "1   108656        1321     True\n",
       "2   100120        1110    False\n",
       "3   104838        1443     True\n",
       "4   107304        1397     True"
      ]
     },
     "execution_count": 3,
     "metadata": {},
     "output_type": "execute_result"
    }
   ],
   "source": [
    "# Look at the first 5 rows of the data\n",
    "clickHistory.head()"
   ]
  },
  {
   "cell_type": "code",
   "execution_count": 4,
   "id": "14792777-0ffe-4fba-b1d3-6f9e71c21f0b",
   "metadata": {
    "tags": []
   },
   "outputs": [
    {
     "data": {
      "text/html": [
       "<div>\n",
       "<style scoped>\n",
       "    .dataframe tbody tr th:only-of-type {\n",
       "        vertical-align: middle;\n",
       "    }\n",
       "\n",
       "    .dataframe tbody tr th {\n",
       "        vertical-align: top;\n",
       "    }\n",
       "\n",
       "    .dataframe thead th {\n",
       "        text-align: right;\n",
       "    }\n",
       "</style>\n",
       "<table border=\"1\" class=\"dataframe\">\n",
       "  <thead>\n",
       "    <tr style=\"text-align: right;\">\n",
       "      <th></th>\n",
       "      <th>user_id</th>\n",
       "      <th>product_id</th>\n",
       "    </tr>\n",
       "  </thead>\n",
       "  <tbody>\n",
       "    <tr>\n",
       "      <th>count</th>\n",
       "      <td>35990.000000</td>\n",
       "      <td>35990.000000</td>\n",
       "    </tr>\n",
       "    <tr>\n",
       "      <th>mean</th>\n",
       "      <td>106017.080161</td>\n",
       "      <td>1500.232898</td>\n",
       "    </tr>\n",
       "    <tr>\n",
       "      <th>std</th>\n",
       "      <td>3483.480090</td>\n",
       "      <td>288.101984</td>\n",
       "    </tr>\n",
       "    <tr>\n",
       "      <th>min</th>\n",
       "      <td>100001.000000</td>\n",
       "      <td>1000.000000</td>\n",
       "    </tr>\n",
       "    <tr>\n",
       "      <th>25%</th>\n",
       "      <td>102976.500000</td>\n",
       "      <td>1250.000000</td>\n",
       "    </tr>\n",
       "    <tr>\n",
       "      <th>50%</th>\n",
       "      <td>106060.000000</td>\n",
       "      <td>1503.000000</td>\n",
       "    </tr>\n",
       "    <tr>\n",
       "      <th>75%</th>\n",
       "      <td>109049.000000</td>\n",
       "      <td>1749.000000</td>\n",
       "    </tr>\n",
       "    <tr>\n",
       "      <th>max</th>\n",
       "      <td>111999.000000</td>\n",
       "      <td>1999.000000</td>\n",
       "    </tr>\n",
       "  </tbody>\n",
       "</table>\n",
       "</div>"
      ],
      "text/plain": [
       "             user_id    product_id\n",
       "count   35990.000000  35990.000000\n",
       "mean   106017.080161   1500.232898\n",
       "std      3483.480090    288.101984\n",
       "min    100001.000000   1000.000000\n",
       "25%    102976.500000   1250.000000\n",
       "50%    106060.000000   1503.000000\n",
       "75%    109049.000000   1749.000000\n",
       "max    111999.000000   1999.000000"
      ]
     },
     "execution_count": 4,
     "metadata": {},
     "output_type": "execute_result"
    }
   ],
   "source": [
    "# Give summary statistics\n",
    "clickHistory.describe()"
   ]
  },
  {
   "cell_type": "code",
   "execution_count": 5,
   "id": "5c5f13b6-e443-4d2d-abdb-771257c79c94",
   "metadata": {
    "tags": []
   },
   "outputs": [
    {
     "name": "stdout",
     "output_type": "stream",
     "text": [
      "<class 'pandas.core.frame.DataFrame'>\n",
      "RangeIndex: 35990 entries, 0 to 35989\n",
      "Data columns (total 3 columns):\n",
      " #   Column      Non-Null Count  Dtype\n",
      "---  ------      --------------  -----\n",
      " 0   user_id     35990 non-null  int64\n",
      " 1   product_id  35990 non-null  int64\n",
      " 2   clicked     35990 non-null  bool \n",
      "dtypes: bool(1), int64(2)\n",
      "memory usage: 597.6 KB\n"
     ]
    }
   ],
   "source": [
    "# Get column info\n",
    "clickHistory.info()"
   ]
  },
  {
   "cell_type": "code",
   "execution_count": 6,
   "id": "e767f793-737e-41bf-87b0-35ee8a8c1022",
   "metadata": {
    "tags": []
   },
   "outputs": [
    {
     "data": {
      "text/html": [
       "<div>\n",
       "<style scoped>\n",
       "    .dataframe tbody tr th:only-of-type {\n",
       "        vertical-align: middle;\n",
       "    }\n",
       "\n",
       "    .dataframe tbody tr th {\n",
       "        vertical-align: top;\n",
       "    }\n",
       "\n",
       "    .dataframe thead th {\n",
       "        text-align: right;\n",
       "    }\n",
       "</style>\n",
       "<table border=\"1\" class=\"dataframe\">\n",
       "  <thead>\n",
       "    <tr style=\"text-align: right;\">\n",
       "      <th></th>\n",
       "      <th>product_id</th>\n",
       "      <th>category</th>\n",
       "      <th>on_sale</th>\n",
       "      <th>number_of_reviews</th>\n",
       "      <th>avg_review_score</th>\n",
       "    </tr>\n",
       "  </thead>\n",
       "  <tbody>\n",
       "    <tr>\n",
       "      <th>0</th>\n",
       "      <td>1134</td>\n",
       "      <td>tools</td>\n",
       "      <td>False</td>\n",
       "      <td>101</td>\n",
       "      <td>3.349452</td>\n",
       "    </tr>\n",
       "    <tr>\n",
       "      <th>1</th>\n",
       "      <td>1846</td>\n",
       "      <td>skincare</td>\n",
       "      <td>False</td>\n",
       "      <td>111</td>\n",
       "      <td>5.000000</td>\n",
       "    </tr>\n",
       "    <tr>\n",
       "      <th>2</th>\n",
       "      <td>1762</td>\n",
       "      <td>fragrance</td>\n",
       "      <td>False</td>\n",
       "      <td>220</td>\n",
       "      <td>4.882706</td>\n",
       "    </tr>\n",
       "    <tr>\n",
       "      <th>3</th>\n",
       "      <td>1254</td>\n",
       "      <td>hair</td>\n",
       "      <td>True</td>\n",
       "      <td>446</td>\n",
       "      <td>5.000000</td>\n",
       "    </tr>\n",
       "    <tr>\n",
       "      <th>4</th>\n",
       "      <td>1493</td>\n",
       "      <td>body</td>\n",
       "      <td>True</td>\n",
       "      <td>513</td>\n",
       "      <td>-1.000000</td>\n",
       "    </tr>\n",
       "  </tbody>\n",
       "</table>\n",
       "</div>"
      ],
      "text/plain": [
       "   product_id   category  on_sale  number_of_reviews  avg_review_score\n",
       "0        1134      tools    False                101          3.349452\n",
       "1        1846   skincare    False                111          5.000000\n",
       "2        1762  fragrance    False                220          4.882706\n",
       "3        1254       hair     True                446          5.000000\n",
       "4        1493       body     True                513         -1.000000"
      ]
     },
     "execution_count": 6,
     "metadata": {},
     "output_type": "execute_result"
    }
   ],
   "source": [
    "# Look at the first 5 rows of the data\n",
    "productFeatures.head()"
   ]
  },
  {
   "cell_type": "code",
   "execution_count": 7,
   "id": "f5647304-9520-443f-8fc0-4bf7aa3f0b4d",
   "metadata": {
    "tags": []
   },
   "outputs": [
    {
     "data": {
      "text/html": [
       "<div>\n",
       "<style scoped>\n",
       "    .dataframe tbody tr th:only-of-type {\n",
       "        vertical-align: middle;\n",
       "    }\n",
       "\n",
       "    .dataframe tbody tr th {\n",
       "        vertical-align: top;\n",
       "    }\n",
       "\n",
       "    .dataframe thead th {\n",
       "        text-align: right;\n",
       "    }\n",
       "</style>\n",
       "<table border=\"1\" class=\"dataframe\">\n",
       "  <thead>\n",
       "    <tr style=\"text-align: right;\">\n",
       "      <th></th>\n",
       "      <th>product_id</th>\n",
       "      <th>number_of_reviews</th>\n",
       "      <th>avg_review_score</th>\n",
       "    </tr>\n",
       "  </thead>\n",
       "  <tbody>\n",
       "    <tr>\n",
       "      <th>count</th>\n",
       "      <td>1000.000000</td>\n",
       "      <td>1.000000e+03</td>\n",
       "      <td>1000.000000</td>\n",
       "    </tr>\n",
       "    <tr>\n",
       "      <th>mean</th>\n",
       "      <td>1499.500000</td>\n",
       "      <td>1.157725e+05</td>\n",
       "      <td>2.660656</td>\n",
       "    </tr>\n",
       "    <tr>\n",
       "      <th>std</th>\n",
       "      <td>288.819436</td>\n",
       "      <td>5.028997e+05</td>\n",
       "      <td>1.741875</td>\n",
       "    </tr>\n",
       "    <tr>\n",
       "      <th>min</th>\n",
       "      <td>1000.000000</td>\n",
       "      <td>6.600000e+01</td>\n",
       "      <td>-1.000000</td>\n",
       "    </tr>\n",
       "    <tr>\n",
       "      <th>25%</th>\n",
       "      <td>1249.750000</td>\n",
       "      <td>2.570000e+02</td>\n",
       "      <td>1.428969</td>\n",
       "    </tr>\n",
       "    <tr>\n",
       "      <th>50%</th>\n",
       "      <td>1499.500000</td>\n",
       "      <td>4.710000e+02</td>\n",
       "      <td>2.769397</td>\n",
       "    </tr>\n",
       "    <tr>\n",
       "      <th>75%</th>\n",
       "      <td>1749.250000</td>\n",
       "      <td>7.042500e+02</td>\n",
       "      <td>4.180860</td>\n",
       "    </tr>\n",
       "    <tr>\n",
       "      <th>max</th>\n",
       "      <td>1999.000000</td>\n",
       "      <td>2.307390e+06</td>\n",
       "      <td>5.000000</td>\n",
       "    </tr>\n",
       "  </tbody>\n",
       "</table>\n",
       "</div>"
      ],
      "text/plain": [
       "        product_id  number_of_reviews  avg_review_score\n",
       "count  1000.000000       1.000000e+03       1000.000000\n",
       "mean   1499.500000       1.157725e+05          2.660656\n",
       "std     288.819436       5.028997e+05          1.741875\n",
       "min    1000.000000       6.600000e+01         -1.000000\n",
       "25%    1249.750000       2.570000e+02          1.428969\n",
       "50%    1499.500000       4.710000e+02          2.769397\n",
       "75%    1749.250000       7.042500e+02          4.180860\n",
       "max    1999.000000       2.307390e+06          5.000000"
      ]
     },
     "execution_count": 7,
     "metadata": {},
     "output_type": "execute_result"
    }
   ],
   "source": [
    "# Give summary statistics\n",
    "productFeatures.describe()"
   ]
  },
  {
   "cell_type": "code",
   "execution_count": 8,
   "id": "fdd83238-27b9-497e-ab46-41563e2c5bba",
   "metadata": {
    "tags": []
   },
   "outputs": [
    {
     "name": "stdout",
     "output_type": "stream",
     "text": [
      "<class 'pandas.core.frame.DataFrame'>\n",
      "RangeIndex: 1000 entries, 0 to 999\n",
      "Data columns (total 5 columns):\n",
      " #   Column             Non-Null Count  Dtype  \n",
      "---  ------             --------------  -----  \n",
      " 0   product_id         1000 non-null   int64  \n",
      " 1   category           1000 non-null   object \n",
      " 2   on_sale            1000 non-null   bool   \n",
      " 3   number_of_reviews  1000 non-null   int64  \n",
      " 4   avg_review_score   1000 non-null   float64\n",
      "dtypes: bool(1), float64(1), int64(2), object(1)\n",
      "memory usage: 32.4+ KB\n"
     ]
    }
   ],
   "source": [
    "# Get column information\n",
    "productFeatures.info()"
   ]
  },
  {
   "cell_type": "code",
   "execution_count": 9,
   "id": "a7b988ec-ae32-4229-acca-5e0c2fadbc72",
   "metadata": {
    "tags": []
   },
   "outputs": [
    {
     "data": {
      "text/html": [
       "<div>\n",
       "<style scoped>\n",
       "    .dataframe tbody tr th:only-of-type {\n",
       "        vertical-align: middle;\n",
       "    }\n",
       "\n",
       "    .dataframe tbody tr th {\n",
       "        vertical-align: top;\n",
       "    }\n",
       "\n",
       "    .dataframe thead th {\n",
       "        text-align: right;\n",
       "    }\n",
       "</style>\n",
       "<table border=\"1\" class=\"dataframe\">\n",
       "  <thead>\n",
       "    <tr style=\"text-align: right;\">\n",
       "      <th></th>\n",
       "      <th>user_id</th>\n",
       "      <th>number_of_clicks_before</th>\n",
       "      <th>ordered_before</th>\n",
       "      <th>personal_interests</th>\n",
       "    </tr>\n",
       "  </thead>\n",
       "  <tbody>\n",
       "    <tr>\n",
       "      <th>0</th>\n",
       "      <td>104939</td>\n",
       "      <td>2</td>\n",
       "      <td>True</td>\n",
       "      <td>['body', 'makeup', 'nail', 'hand', 'foot', 'me...</td>\n",
       "    </tr>\n",
       "    <tr>\n",
       "      <th>1</th>\n",
       "      <td>101562</td>\n",
       "      <td>2</td>\n",
       "      <td>True</td>\n",
       "      <td>['men_skincare', 'men_fragrance', 'tools', 'sk...</td>\n",
       "    </tr>\n",
       "    <tr>\n",
       "      <th>2</th>\n",
       "      <td>102343</td>\n",
       "      <td>2</td>\n",
       "      <td>True</td>\n",
       "      <td>['tools', 'makeup', 'foot', 'nail']</td>\n",
       "    </tr>\n",
       "    <tr>\n",
       "      <th>3</th>\n",
       "      <td>106728</td>\n",
       "      <td>5</td>\n",
       "      <td>True</td>\n",
       "      <td>['hand', 'men_skincare']</td>\n",
       "    </tr>\n",
       "    <tr>\n",
       "      <th>4</th>\n",
       "      <td>107179</td>\n",
       "      <td>0</td>\n",
       "      <td>True</td>\n",
       "      <td>['makeup', 'body', 'skincare', 'foot', 'men_sk...</td>\n",
       "    </tr>\n",
       "  </tbody>\n",
       "</table>\n",
       "</div>"
      ],
      "text/plain": [
       "   user_id number_of_clicks_before  ordered_before  \\\n",
       "0   104939                       2            True   \n",
       "1   101562                       2            True   \n",
       "2   102343                       2            True   \n",
       "3   106728                       5            True   \n",
       "4   107179                       0            True   \n",
       "\n",
       "                                  personal_interests  \n",
       "0  ['body', 'makeup', 'nail', 'hand', 'foot', 'me...  \n",
       "1  ['men_skincare', 'men_fragrance', 'tools', 'sk...  \n",
       "2                ['tools', 'makeup', 'foot', 'nail']  \n",
       "3                           ['hand', 'men_skincare']  \n",
       "4  ['makeup', 'body', 'skincare', 'foot', 'men_sk...  "
      ]
     },
     "execution_count": 9,
     "metadata": {},
     "output_type": "execute_result"
    }
   ],
   "source": [
    "# Look at the first 5 rows of the data\n",
    "userFeatures.head()"
   ]
  },
  {
   "cell_type": "code",
   "execution_count": 10,
   "id": "856bb2aa-3232-4f8d-8eef-8e2f4e31cf04",
   "metadata": {
    "tags": []
   },
   "outputs": [
    {
     "data": {
      "text/html": [
       "<div>\n",
       "<style scoped>\n",
       "    .dataframe tbody tr th:only-of-type {\n",
       "        vertical-align: middle;\n",
       "    }\n",
       "\n",
       "    .dataframe tbody tr th {\n",
       "        vertical-align: top;\n",
       "    }\n",
       "\n",
       "    .dataframe thead th {\n",
       "        text-align: right;\n",
       "    }\n",
       "</style>\n",
       "<table border=\"1\" class=\"dataframe\">\n",
       "  <thead>\n",
       "    <tr style=\"text-align: right;\">\n",
       "      <th></th>\n",
       "      <th>user_id</th>\n",
       "    </tr>\n",
       "  </thead>\n",
       "  <tbody>\n",
       "    <tr>\n",
       "      <th>count</th>\n",
       "      <td>12000.00000</td>\n",
       "    </tr>\n",
       "    <tr>\n",
       "      <th>mean</th>\n",
       "      <td>105999.50000</td>\n",
       "    </tr>\n",
       "    <tr>\n",
       "      <th>std</th>\n",
       "      <td>3464.24595</td>\n",
       "    </tr>\n",
       "    <tr>\n",
       "      <th>min</th>\n",
       "      <td>100000.00000</td>\n",
       "    </tr>\n",
       "    <tr>\n",
       "      <th>25%</th>\n",
       "      <td>102999.75000</td>\n",
       "    </tr>\n",
       "    <tr>\n",
       "      <th>50%</th>\n",
       "      <td>105999.50000</td>\n",
       "    </tr>\n",
       "    <tr>\n",
       "      <th>75%</th>\n",
       "      <td>108999.25000</td>\n",
       "    </tr>\n",
       "    <tr>\n",
       "      <th>max</th>\n",
       "      <td>111999.00000</td>\n",
       "    </tr>\n",
       "  </tbody>\n",
       "</table>\n",
       "</div>"
      ],
      "text/plain": [
       "            user_id\n",
       "count   12000.00000\n",
       "mean   105999.50000\n",
       "std      3464.24595\n",
       "min    100000.00000\n",
       "25%    102999.75000\n",
       "50%    105999.50000\n",
       "75%    108999.25000\n",
       "max    111999.00000"
      ]
     },
     "execution_count": 10,
     "metadata": {},
     "output_type": "execute_result"
    }
   ],
   "source": [
    "# Give summary statistics\n",
    "userFeatures.describe()"
   ]
  },
  {
   "cell_type": "code",
   "execution_count": 11,
   "id": "49e17394-f449-4840-9550-e2a1ad2624ca",
   "metadata": {
    "tags": []
   },
   "outputs": [
    {
     "name": "stdout",
     "output_type": "stream",
     "text": [
      "<class 'pandas.core.frame.DataFrame'>\n",
      "RangeIndex: 12000 entries, 0 to 11999\n",
      "Data columns (total 4 columns):\n",
      " #   Column                   Non-Null Count  Dtype \n",
      "---  ------                   --------------  ----- \n",
      " 0   user_id                  12000 non-null  int64 \n",
      " 1   number_of_clicks_before  11500 non-null  object\n",
      " 2   ordered_before           12000 non-null  bool  \n",
      " 3   personal_interests       12000 non-null  object\n",
      "dtypes: bool(1), int64(1), object(2)\n",
      "memory usage: 293.1+ KB\n"
     ]
    }
   ],
   "source": [
    "# Get column information\n",
    "userFeatures.info()"
   ]
  },
  {
   "cell_type": "markdown",
   "id": "fa09c4e6-f026-40f9-ba68-869bd74a1eb8",
   "metadata": {},
   "source": [
    "Based on the above analysis, I noted a few important things. First, there are several columns that are True/False. We should switch these to be 1 and 0. Next, in the productFeatures data, there are several rows that have -1 as the average review score. This doesn't make sense and we will likely need to remove these rows. Finally, in the userFeatures data, there are 500 rows that have a null value for number_of_clicks_before. Also, there is the value of 6+ which does not fit into the integer bucket, so python has automatically classified the column as an object datatype. We will fix all of the above in the next section."
   ]
  },
  {
   "cell_type": "markdown",
   "id": "4f85c2ee-5348-4459-9bb2-8113c66f10fc",
   "metadata": {},
   "source": [
    "Question 2: Data Cleaning and Preprocessing"
   ]
  },
  {
   "cell_type": "code",
   "execution_count": 14,
   "id": "5cf17fbb-73dd-458c-8b60-e9fd1b385e44",
   "metadata": {
    "tags": []
   },
   "outputs": [],
   "source": [
    "# Merge clickHistory and productFeatures\n",
    "combinedTable = pd.merge(clickHistory, productFeatures, on='product_id')"
   ]
  },
  {
   "cell_type": "code",
   "execution_count": 15,
   "id": "e17fe89f-b604-4920-bd57-b50be34bb6b4",
   "metadata": {
    "tags": []
   },
   "outputs": [],
   "source": [
    "# Merge combinedTable and userFeatures\n",
    "data = pd.merge(combinedTable, userFeatures, on='user_id')"
   ]
  },
  {
   "cell_type": "code",
   "execution_count": 16,
   "id": "f24651fb-f999-42dd-93a5-f113d582ec3d",
   "metadata": {
    "tags": []
   },
   "outputs": [],
   "source": [
    "# Change true/false values to be 1 or 0\n",
    "data['clicked'] = data['clicked'].astype(int)\n",
    "data['on_sale'] = data['on_sale'].astype(int)\n",
    "data['ordered_before'] = data['ordered_before'].astype(int)"
   ]
  },
  {
   "cell_type": "code",
   "execution_count": 17,
   "id": "0a203a63-575b-4b56-906d-23645009f350",
   "metadata": {
    "tags": []
   },
   "outputs": [],
   "source": [
    "# Replace the avg_review_score values that were -1 with the median value excluding the -1s\n",
    "median_score = data[data['avg_review_score'] != -1]['avg_review_score'].median()\n",
    "data['avg_review_score'].replace(-1, median_score, inplace=True)"
   ]
  },
  {
   "cell_type": "code",
   "execution_count": 18,
   "id": "863f1f8b-b411-46f2-a805-783877ff8559",
   "metadata": {
    "tags": []
   },
   "outputs": [],
   "source": [
    "# Replace the 6+ values with 8\n",
    "data['number_of_clicks_before'].replace('6+', 8, inplace=True)\n",
    "data['number_of_clicks_before'] = pd.to_numeric(data['number_of_clicks_before'])"
   ]
  },
  {
   "cell_type": "code",
   "execution_count": 19,
   "id": "8bfb625f-e204-422e-b559-ed3b0de72230",
   "metadata": {
    "tags": []
   },
   "outputs": [],
   "source": [
    "# Replace the null values with the median\n",
    "median_clicks = data['number_of_clicks_before'].median()\n",
    "data['number_of_clicks_before'].fillna(median_clicks, inplace=True)"
   ]
  },
  {
   "cell_type": "code",
   "execution_count": 20,
   "id": "d7e4bad2-7c45-4c40-8b43-01ae7baa1de0",
   "metadata": {
    "tags": []
   },
   "outputs": [
    {
     "name": "stdout",
     "output_type": "stream",
     "text": [
      "<class 'pandas.core.frame.DataFrame'>\n",
      "RangeIndex: 35990 entries, 0 to 35989\n",
      "Data columns (total 10 columns):\n",
      " #   Column                   Non-Null Count  Dtype  \n",
      "---  ------                   --------------  -----  \n",
      " 0   user_id                  35990 non-null  int64  \n",
      " 1   product_id               35990 non-null  int64  \n",
      " 2   clicked                  35990 non-null  int32  \n",
      " 3   category                 35990 non-null  object \n",
      " 4   on_sale                  35990 non-null  int32  \n",
      " 5   number_of_reviews        35990 non-null  int64  \n",
      " 6   avg_review_score         35990 non-null  float64\n",
      " 7   number_of_clicks_before  35990 non-null  float64\n",
      " 8   ordered_before           35990 non-null  int32  \n",
      " 9   personal_interests       35990 non-null  object \n",
      "dtypes: float64(2), int32(3), int64(3), object(2)\n",
      "memory usage: 2.3+ MB\n"
     ]
    }
   ],
   "source": [
    "# Check in on our dataset\n",
    "data.info()"
   ]
  },
  {
   "cell_type": "code",
   "execution_count": 21,
   "id": "8b4d3ab6-dd9c-4fe0-ae59-81ab7b5b9b28",
   "metadata": {
    "tags": []
   },
   "outputs": [],
   "source": [
    "# Change the category column to be a string\n",
    "data['category'] = data['category'].astype('string')"
   ]
  },
  {
   "cell_type": "code",
   "execution_count": 22,
   "id": "ca9779c6-7651-46bf-ba30-0939c833984e",
   "metadata": {
    "tags": []
   },
   "outputs": [],
   "source": [
    "import ast\n",
    "# Convert strings in column 'personal_interests' into lists\n",
    "data['personal_interests'] = data['personal_interests'].apply(ast.literal_eval)\n",
    "# Initialize set of unique interests\n",
    "all_interests = set()\n",
    "# Get the set of unique interests\n",
    "data['personal_interests'].apply(lambda x: all_interests.update(x))\n",
    "# Add columns for all unique interests\n",
    "for interest in all_interests:\n",
    "    data[f'interest_{interest}'] = data['personal_interests'].apply(lambda x: 1 if interest in x else 0)\n",
    "# Remove the 'personal_interests' column\n",
    "data.drop('personal_interests', axis=1, inplace=True)"
   ]
  },
  {
   "cell_type": "code",
   "execution_count": 23,
   "id": "c3961e2b-c952-4356-b4b6-5f54dcca96e0",
   "metadata": {
    "tags": []
   },
   "outputs": [
    {
     "name": "stdout",
     "output_type": "stream",
     "text": [
      "<class 'pandas.core.frame.DataFrame'>\n",
      "RangeIndex: 35990 entries, 0 to 35989\n",
      "Data columns (total 20 columns):\n",
      " #   Column                   Non-Null Count  Dtype  \n",
      "---  ------                   --------------  -----  \n",
      " 0   user_id                  35990 non-null  int64  \n",
      " 1   product_id               35990 non-null  int64  \n",
      " 2   clicked                  35990 non-null  int32  \n",
      " 3   category                 35990 non-null  string \n",
      " 4   on_sale                  35990 non-null  int32  \n",
      " 5   number_of_reviews        35990 non-null  int64  \n",
      " 6   avg_review_score         35990 non-null  float64\n",
      " 7   number_of_clicks_before  35990 non-null  float64\n",
      " 8   ordered_before           35990 non-null  int32  \n",
      " 9   interest_makeup          35990 non-null  int64  \n",
      " 10  interest_men_skincare    35990 non-null  int64  \n",
      " 11  interest_foot            35990 non-null  int64  \n",
      " 12  interest_nail            35990 non-null  int64  \n",
      " 13  interest_tools           35990 non-null  int64  \n",
      " 14  interest_skincare        35990 non-null  int64  \n",
      " 15  interest_fragrance       35990 non-null  int64  \n",
      " 16  interest_body            35990 non-null  int64  \n",
      " 17  interest_hand            35990 non-null  int64  \n",
      " 18  interest_men_fragrance   35990 non-null  int64  \n",
      " 19  interest_hair            35990 non-null  int64  \n",
      "dtypes: float64(2), int32(3), int64(14), string(1)\n",
      "memory usage: 5.1 MB\n"
     ]
    }
   ],
   "source": [
    "# Check in on the data. Note our new interest dummy columns.\n",
    "data.info()"
   ]
  },
  {
   "cell_type": "code",
   "execution_count": 24,
   "id": "b1175846-d571-49b3-8665-6463e27618e1",
   "metadata": {
    "tags": []
   },
   "outputs": [],
   "source": [
    "# Make dummy variables for category\n",
    "category_dummies = pd.get_dummies(data['category'], prefix='category', dtype=int)\n",
    "# Drop old category column\n",
    "data.drop('category', axis=1, inplace=True)\n",
    "# Add the dummy columns to the data\n",
    "data = pd.concat([data, category_dummies], axis=1)"
   ]
  },
  {
   "cell_type": "code",
   "execution_count": 25,
   "id": "2f3d167e-659e-4a62-8888-ff6fc043c6e7",
   "metadata": {
    "tags": []
   },
   "outputs": [
    {
     "name": "stdout",
     "output_type": "stream",
     "text": [
      "<class 'pandas.core.frame.DataFrame'>\n",
      "RangeIndex: 35990 entries, 0 to 35989\n",
      "Data columns (total 30 columns):\n",
      " #   Column                   Non-Null Count  Dtype  \n",
      "---  ------                   --------------  -----  \n",
      " 0   user_id                  35990 non-null  int64  \n",
      " 1   product_id               35990 non-null  int64  \n",
      " 2   clicked                  35990 non-null  int32  \n",
      " 3   on_sale                  35990 non-null  int32  \n",
      " 4   number_of_reviews        35990 non-null  int64  \n",
      " 5   avg_review_score         35990 non-null  float64\n",
      " 6   number_of_clicks_before  35990 non-null  float64\n",
      " 7   ordered_before           35990 non-null  int32  \n",
      " 8   interest_makeup          35990 non-null  int64  \n",
      " 9   interest_men_skincare    35990 non-null  int64  \n",
      " 10  interest_foot            35990 non-null  int64  \n",
      " 11  interest_nail            35990 non-null  int64  \n",
      " 12  interest_tools           35990 non-null  int64  \n",
      " 13  interest_skincare        35990 non-null  int64  \n",
      " 14  interest_fragrance       35990 non-null  int64  \n",
      " 15  interest_body            35990 non-null  int64  \n",
      " 16  interest_hand            35990 non-null  int64  \n",
      " 17  interest_men_fragrance   35990 non-null  int64  \n",
      " 18  interest_hair            35990 non-null  int64  \n",
      " 19  category_body            35990 non-null  int32  \n",
      " 20  category_foot            35990 non-null  int32  \n",
      " 21  category_fragrance       35990 non-null  int32  \n",
      " 22  category_hair            35990 non-null  int32  \n",
      " 23  category_hand            35990 non-null  int32  \n",
      " 24  category_makeup          35990 non-null  int32  \n",
      " 25  category_men_fragrance   35990 non-null  int32  \n",
      " 26  category_men_skincare    35990 non-null  int32  \n",
      " 27  category_nail            35990 non-null  int32  \n",
      " 28  category_skincare        35990 non-null  int32  \n",
      " 29  category_tools           35990 non-null  int32  \n",
      "dtypes: float64(2), int32(14), int64(14)\n",
      "memory usage: 6.3 MB\n"
     ]
    }
   ],
   "source": [
    "# Get a final look at our columns\n",
    "data.info()"
   ]
  },
  {
   "cell_type": "code",
   "execution_count": 26,
   "id": "8663ceba-1c2f-4a43-b1f1-7eb9460a296f",
   "metadata": {
    "tags": []
   },
   "outputs": [
    {
     "data": {
      "text/html": [
       "<div>\n",
       "<style scoped>\n",
       "    .dataframe tbody tr th:only-of-type {\n",
       "        vertical-align: middle;\n",
       "    }\n",
       "\n",
       "    .dataframe tbody tr th {\n",
       "        vertical-align: top;\n",
       "    }\n",
       "\n",
       "    .dataframe thead th {\n",
       "        text-align: right;\n",
       "    }\n",
       "</style>\n",
       "<table border=\"1\" class=\"dataframe\">\n",
       "  <thead>\n",
       "    <tr style=\"text-align: right;\">\n",
       "      <th></th>\n",
       "      <th>user_id</th>\n",
       "      <th>product_id</th>\n",
       "      <th>clicked</th>\n",
       "      <th>on_sale</th>\n",
       "      <th>number_of_reviews</th>\n",
       "      <th>avg_review_score</th>\n",
       "      <th>number_of_clicks_before</th>\n",
       "      <th>ordered_before</th>\n",
       "      <th>interest_makeup</th>\n",
       "      <th>interest_men_skincare</th>\n",
       "      <th>...</th>\n",
       "      <th>category_foot</th>\n",
       "      <th>category_fragrance</th>\n",
       "      <th>category_hair</th>\n",
       "      <th>category_hand</th>\n",
       "      <th>category_makeup</th>\n",
       "      <th>category_men_fragrance</th>\n",
       "      <th>category_men_skincare</th>\n",
       "      <th>category_nail</th>\n",
       "      <th>category_skincare</th>\n",
       "      <th>category_tools</th>\n",
       "    </tr>\n",
       "  </thead>\n",
       "  <tbody>\n",
       "    <tr>\n",
       "      <th>0</th>\n",
       "      <td>104863</td>\n",
       "      <td>1350</td>\n",
       "      <td>0</td>\n",
       "      <td>0</td>\n",
       "      <td>136</td>\n",
       "      <td>2.653361</td>\n",
       "      <td>2.0</td>\n",
       "      <td>1</td>\n",
       "      <td>0</td>\n",
       "      <td>0</td>\n",
       "      <td>...</td>\n",
       "      <td>0</td>\n",
       "      <td>0</td>\n",
       "      <td>0</td>\n",
       "      <td>0</td>\n",
       "      <td>0</td>\n",
       "      <td>0</td>\n",
       "      <td>0</td>\n",
       "      <td>1</td>\n",
       "      <td>0</td>\n",
       "      <td>0</td>\n",
       "    </tr>\n",
       "    <tr>\n",
       "      <th>1</th>\n",
       "      <td>104863</td>\n",
       "      <td>1617</td>\n",
       "      <td>1</td>\n",
       "      <td>1</td>\n",
       "      <td>279</td>\n",
       "      <td>4.924063</td>\n",
       "      <td>2.0</td>\n",
       "      <td>1</td>\n",
       "      <td>0</td>\n",
       "      <td>0</td>\n",
       "      <td>...</td>\n",
       "      <td>1</td>\n",
       "      <td>0</td>\n",
       "      <td>0</td>\n",
       "      <td>0</td>\n",
       "      <td>0</td>\n",
       "      <td>0</td>\n",
       "      <td>0</td>\n",
       "      <td>0</td>\n",
       "      <td>0</td>\n",
       "      <td>0</td>\n",
       "    </tr>\n",
       "    <tr>\n",
       "      <th>2</th>\n",
       "      <td>104863</td>\n",
       "      <td>1959</td>\n",
       "      <td>0</td>\n",
       "      <td>1</td>\n",
       "      <td>540</td>\n",
       "      <td>3.049224</td>\n",
       "      <td>2.0</td>\n",
       "      <td>1</td>\n",
       "      <td>0</td>\n",
       "      <td>0</td>\n",
       "      <td>...</td>\n",
       "      <td>0</td>\n",
       "      <td>0</td>\n",
       "      <td>0</td>\n",
       "      <td>0</td>\n",
       "      <td>0</td>\n",
       "      <td>0</td>\n",
       "      <td>0</td>\n",
       "      <td>0</td>\n",
       "      <td>0</td>\n",
       "      <td>0</td>\n",
       "    </tr>\n",
       "    <tr>\n",
       "      <th>3</th>\n",
       "      <td>104863</td>\n",
       "      <td>1920</td>\n",
       "      <td>0</td>\n",
       "      <td>1</td>\n",
       "      <td>776</td>\n",
       "      <td>1.562768</td>\n",
       "      <td>2.0</td>\n",
       "      <td>1</td>\n",
       "      <td>0</td>\n",
       "      <td>0</td>\n",
       "      <td>...</td>\n",
       "      <td>0</td>\n",
       "      <td>0</td>\n",
       "      <td>0</td>\n",
       "      <td>0</td>\n",
       "      <td>0</td>\n",
       "      <td>0</td>\n",
       "      <td>0</td>\n",
       "      <td>0</td>\n",
       "      <td>0</td>\n",
       "      <td>0</td>\n",
       "    </tr>\n",
       "    <tr>\n",
       "      <th>4</th>\n",
       "      <td>104863</td>\n",
       "      <td>1138</td>\n",
       "      <td>0</td>\n",
       "      <td>1</td>\n",
       "      <td>104</td>\n",
       "      <td>1.996069</td>\n",
       "      <td>2.0</td>\n",
       "      <td>1</td>\n",
       "      <td>0</td>\n",
       "      <td>0</td>\n",
       "      <td>...</td>\n",
       "      <td>0</td>\n",
       "      <td>0</td>\n",
       "      <td>0</td>\n",
       "      <td>0</td>\n",
       "      <td>1</td>\n",
       "      <td>0</td>\n",
       "      <td>0</td>\n",
       "      <td>0</td>\n",
       "      <td>0</td>\n",
       "      <td>0</td>\n",
       "    </tr>\n",
       "  </tbody>\n",
       "</table>\n",
       "<p>5 rows × 30 columns</p>\n",
       "</div>"
      ],
      "text/plain": [
       "   user_id  product_id  clicked  on_sale  number_of_reviews  avg_review_score  \\\n",
       "0   104863        1350        0        0                136          2.653361   \n",
       "1   104863        1617        1        1                279          4.924063   \n",
       "2   104863        1959        0        1                540          3.049224   \n",
       "3   104863        1920        0        1                776          1.562768   \n",
       "4   104863        1138        0        1                104          1.996069   \n",
       "\n",
       "   number_of_clicks_before  ordered_before  interest_makeup  \\\n",
       "0                      2.0               1                0   \n",
       "1                      2.0               1                0   \n",
       "2                      2.0               1                0   \n",
       "3                      2.0               1                0   \n",
       "4                      2.0               1                0   \n",
       "\n",
       "   interest_men_skincare  ...  category_foot  category_fragrance  \\\n",
       "0                      0  ...              0                   0   \n",
       "1                      0  ...              1                   0   \n",
       "2                      0  ...              0                   0   \n",
       "3                      0  ...              0                   0   \n",
       "4                      0  ...              0                   0   \n",
       "\n",
       "   category_hair  category_hand  category_makeup  category_men_fragrance  \\\n",
       "0              0              0                0                       0   \n",
       "1              0              0                0                       0   \n",
       "2              0              0                0                       0   \n",
       "3              0              0                0                       0   \n",
       "4              0              0                1                       0   \n",
       "\n",
       "   category_men_skincare  category_nail  category_skincare  category_tools  \n",
       "0                      0              1                  0               0  \n",
       "1                      0              0                  0               0  \n",
       "2                      0              0                  0               0  \n",
       "3                      0              0                  0               0  \n",
       "4                      0              0                  0               0  \n",
       "\n",
       "[5 rows x 30 columns]"
      ]
     },
     "execution_count": 26,
     "metadata": {},
     "output_type": "execute_result"
    }
   ],
   "source": [
    "# Get a final look at the first 5 rows of our data\n",
    "data.head()"
   ]
  },
  {
   "cell_type": "markdown",
   "id": "e8714bfc-091e-4793-94c1-f86cec8938a2",
   "metadata": {},
   "source": [
    "That took a while, but I think we finally have the data in a good spot to start our model creation and tuning."
   ]
  },
  {
   "cell_type": "markdown",
   "id": "838963b0-2b6b-4021-a1b8-bc77fbe75c42",
   "metadata": {},
   "source": [
    "Question 3: Model Generation and Evaluation"
   ]
  },
  {
   "cell_type": "markdown",
   "id": "964fabdf-ebc5-4ea0-82b1-151cceb8b74f",
   "metadata": {},
   "source": [
    "Logistic Regression"
   ]
  },
  {
   "cell_type": "code",
   "execution_count": 30,
   "id": "0d1138a8-ed7d-4514-8058-4508d02a8e78",
   "metadata": {
    "tags": []
   },
   "outputs": [],
   "source": [
    "from sklearn.model_selection import train_test_split\n",
    "# Drop the key columns and the target variable\n",
    "X = data.drop(columns=['clicked', 'user_id', 'product_id'])\n",
    "# Identify the 'clicked' variable as our y\n",
    "y = data['clicked']\n",
    "# Get a test and train split with a test size of 30%\n",
    "X_train, X_test, y_train, y_test = train_test_split(X, y, test_size=0.3, random_state=123)"
   ]
  },
  {
   "cell_type": "code",
   "execution_count": 31,
   "id": "fb90c757-a31d-429e-89c4-e68bef078d03",
   "metadata": {
    "tags": []
   },
   "outputs": [],
   "source": [
    "from sklearn.preprocessing import MinMaxScaler\n",
    "# Scale the data\n",
    "scaler = MinMaxScaler()\n",
    "X_train_scaled = scaler.fit_transform(X_train)\n",
    "X_test_scaled = scaler.transform(X_test)"
   ]
  },
  {
   "cell_type": "code",
   "execution_count": 32,
   "id": "9f0f4115-9685-4c58-8f0c-04d492aad3f5",
   "metadata": {
    "tags": []
   },
   "outputs": [
    {
     "data": {
      "text/html": [
       "<style>#sk-container-id-1 {color: black;}#sk-container-id-1 pre{padding: 0;}#sk-container-id-1 div.sk-toggleable {background-color: white;}#sk-container-id-1 label.sk-toggleable__label {cursor: pointer;display: block;width: 100%;margin-bottom: 0;padding: 0.3em;box-sizing: border-box;text-align: center;}#sk-container-id-1 label.sk-toggleable__label-arrow:before {content: \"▸\";float: left;margin-right: 0.25em;color: #696969;}#sk-container-id-1 label.sk-toggleable__label-arrow:hover:before {color: black;}#sk-container-id-1 div.sk-estimator:hover label.sk-toggleable__label-arrow:before {color: black;}#sk-container-id-1 div.sk-toggleable__content {max-height: 0;max-width: 0;overflow: hidden;text-align: left;background-color: #f0f8ff;}#sk-container-id-1 div.sk-toggleable__content pre {margin: 0.2em;color: black;border-radius: 0.25em;background-color: #f0f8ff;}#sk-container-id-1 input.sk-toggleable__control:checked~div.sk-toggleable__content {max-height: 200px;max-width: 100%;overflow: auto;}#sk-container-id-1 input.sk-toggleable__control:checked~label.sk-toggleable__label-arrow:before {content: \"▾\";}#sk-container-id-1 div.sk-estimator input.sk-toggleable__control:checked~label.sk-toggleable__label {background-color: #d4ebff;}#sk-container-id-1 div.sk-label input.sk-toggleable__control:checked~label.sk-toggleable__label {background-color: #d4ebff;}#sk-container-id-1 input.sk-hidden--visually {border: 0;clip: rect(1px 1px 1px 1px);clip: rect(1px, 1px, 1px, 1px);height: 1px;margin: -1px;overflow: hidden;padding: 0;position: absolute;width: 1px;}#sk-container-id-1 div.sk-estimator {font-family: monospace;background-color: #f0f8ff;border: 1px dotted black;border-radius: 0.25em;box-sizing: border-box;margin-bottom: 0.5em;}#sk-container-id-1 div.sk-estimator:hover {background-color: #d4ebff;}#sk-container-id-1 div.sk-parallel-item::after {content: \"\";width: 100%;border-bottom: 1px solid gray;flex-grow: 1;}#sk-container-id-1 div.sk-label:hover label.sk-toggleable__label {background-color: #d4ebff;}#sk-container-id-1 div.sk-serial::before {content: \"\";position: absolute;border-left: 1px solid gray;box-sizing: border-box;top: 0;bottom: 0;left: 50%;z-index: 0;}#sk-container-id-1 div.sk-serial {display: flex;flex-direction: column;align-items: center;background-color: white;padding-right: 0.2em;padding-left: 0.2em;position: relative;}#sk-container-id-1 div.sk-item {position: relative;z-index: 1;}#sk-container-id-1 div.sk-parallel {display: flex;align-items: stretch;justify-content: center;background-color: white;position: relative;}#sk-container-id-1 div.sk-item::before, #sk-container-id-1 div.sk-parallel-item::before {content: \"\";position: absolute;border-left: 1px solid gray;box-sizing: border-box;top: 0;bottom: 0;left: 50%;z-index: -1;}#sk-container-id-1 div.sk-parallel-item {display: flex;flex-direction: column;z-index: 1;position: relative;background-color: white;}#sk-container-id-1 div.sk-parallel-item:first-child::after {align-self: flex-end;width: 50%;}#sk-container-id-1 div.sk-parallel-item:last-child::after {align-self: flex-start;width: 50%;}#sk-container-id-1 div.sk-parallel-item:only-child::after {width: 0;}#sk-container-id-1 div.sk-dashed-wrapped {border: 1px dashed gray;margin: 0 0.4em 0.5em 0.4em;box-sizing: border-box;padding-bottom: 0.4em;background-color: white;}#sk-container-id-1 div.sk-label label {font-family: monospace;font-weight: bold;display: inline-block;line-height: 1.2em;}#sk-container-id-1 div.sk-label-container {text-align: center;}#sk-container-id-1 div.sk-container {/* jupyter's `normalize.less` sets `[hidden] { display: none; }` but bootstrap.min.css set `[hidden] { display: none !important; }` so we also need the `!important` here to be able to override the default hidden behavior on the sphinx rendered scikit-learn.org. See: https://github.com/scikit-learn/scikit-learn/issues/21755 */display: inline-block !important;position: relative;}#sk-container-id-1 div.sk-text-repr-fallback {display: none;}</style><div id=\"sk-container-id-1\" class=\"sk-top-container\"><div class=\"sk-text-repr-fallback\"><pre>LogisticRegression()</pre><b>In a Jupyter environment, please rerun this cell to show the HTML representation or trust the notebook. <br />On GitHub, the HTML representation is unable to render, please try loading this page with nbviewer.org.</b></div><div class=\"sk-container\" hidden><div class=\"sk-item\"><div class=\"sk-estimator sk-toggleable\"><input class=\"sk-toggleable__control sk-hidden--visually\" id=\"sk-estimator-id-1\" type=\"checkbox\" checked><label for=\"sk-estimator-id-1\" class=\"sk-toggleable__label sk-toggleable__label-arrow\">LogisticRegression</label><div class=\"sk-toggleable__content\"><pre>LogisticRegression()</pre></div></div></div></div></div>"
      ],
      "text/plain": [
       "LogisticRegression()"
      ]
     },
     "execution_count": 32,
     "metadata": {},
     "output_type": "execute_result"
    }
   ],
   "source": [
    "# Fit the model\n",
    "from sklearn.linear_model import LogisticRegression\n",
    "model = LogisticRegression()\n",
    "model.fit(X_train_scaled, y_train)"
   ]
  },
  {
   "cell_type": "code",
   "execution_count": 33,
   "id": "20bebe48-5e18-4689-8602-6f2cd58372b4",
   "metadata": {
    "tags": []
   },
   "outputs": [
    {
     "name": "stdout",
     "output_type": "stream",
     "text": [
      "              precision    recall  f1-score   support\n",
      "\n",
      "           0       0.66      0.95      0.78      7018\n",
      "           1       0.49      0.08      0.14      3779\n",
      "\n",
      "    accuracy                           0.65     10797\n",
      "   macro avg       0.58      0.52      0.46     10797\n",
      "weighted avg       0.60      0.65      0.56     10797\n",
      "\n"
     ]
    }
   ],
   "source": [
    "# Our accuracy with logistic regression is 65%. Refer to the classification report for further statistics.\n",
    "from sklearn.metrics import classification_report\n",
    "y_pred = model.predict(X_test_scaled)\n",
    "print(classification_report(y_test, y_pred))"
   ]
  },
  {
   "cell_type": "markdown",
   "id": "7c959070-1aff-4670-93f7-ddbd49d219a2",
   "metadata": {},
   "source": [
    "Naive Bayes"
   ]
  },
  {
   "cell_type": "code",
   "execution_count": 35,
   "id": "8a76331c-7f86-4aa9-ab55-c9cdce6c797f",
   "metadata": {
    "tags": []
   },
   "outputs": [
    {
     "name": "stdout",
     "output_type": "stream",
     "text": [
      "              precision    recall  f1-score   support\n",
      "\n",
      "           0       0.73      0.53      0.61      7018\n",
      "           1       0.42      0.63      0.50      3779\n",
      "\n",
      "    accuracy                           0.57     10797\n",
      "   macro avg       0.57      0.58      0.56     10797\n",
      "weighted avg       0.62      0.57      0.57     10797\n",
      "\n"
     ]
    }
   ],
   "source": [
    "# Make the naive bayes model. Our accuracy is worse at 57%.\n",
    "from sklearn.naive_bayes import GaussianNB\n",
    "gnb_model = GaussianNB()\n",
    "gnb_model.fit(X_train_scaled, y_train)\n",
    "y_pred_gnb = gnb_model.predict(X_test_scaled)\n",
    "print(classification_report(y_test, y_pred_gnb))"
   ]
  },
  {
   "cell_type": "markdown",
   "id": "a2bc62ec-5123-4af5-8a19-690443328fe5",
   "metadata": {},
   "source": [
    "Decision Tree"
   ]
  },
  {
   "cell_type": "code",
   "execution_count": 37,
   "id": "40383e37-dd2b-41e6-8a69-96e3dc155642",
   "metadata": {
    "tags": []
   },
   "outputs": [
    {
     "name": "stdout",
     "output_type": "stream",
     "text": [
      "              precision    recall  f1-score   support\n",
      "\n",
      "           0       0.75      0.74      0.75      7018\n",
      "           1       0.53      0.54      0.54      3779\n",
      "\n",
      "    accuracy                           0.67     10797\n",
      "   macro avg       0.64      0.64      0.64     10797\n",
      "weighted avg       0.67      0.67      0.67     10797\n",
      "\n"
     ]
    }
   ],
   "source": [
    "# Make a basic decision tree model. We get accuracy of 67%. Now let's try to optimize it.\n",
    "from sklearn.tree import DecisionTreeClassifier\n",
    "dt_model = DecisionTreeClassifier(random_state=123)\n",
    "dt_model.fit(X_train_scaled, y_train)\n",
    "y_pred_dt = dt_model.predict(X_test_scaled)\n",
    "print(classification_report(y_test, y_pred_dt))"
   ]
  },
  {
   "cell_type": "code",
   "execution_count": 38,
   "id": "f83c8daf-39ba-467e-b48a-be2bd70e767c",
   "metadata": {
    "tags": []
   },
   "outputs": [
    {
     "name": "stdout",
     "output_type": "stream",
     "text": [
      "Fitting 5 folds for each of 45 candidates, totalling 225 fits\n"
     ]
    },
    {
     "data": {
      "text/html": [
       "<style>#sk-container-id-2 {color: black;}#sk-container-id-2 pre{padding: 0;}#sk-container-id-2 div.sk-toggleable {background-color: white;}#sk-container-id-2 label.sk-toggleable__label {cursor: pointer;display: block;width: 100%;margin-bottom: 0;padding: 0.3em;box-sizing: border-box;text-align: center;}#sk-container-id-2 label.sk-toggleable__label-arrow:before {content: \"▸\";float: left;margin-right: 0.25em;color: #696969;}#sk-container-id-2 label.sk-toggleable__label-arrow:hover:before {color: black;}#sk-container-id-2 div.sk-estimator:hover label.sk-toggleable__label-arrow:before {color: black;}#sk-container-id-2 div.sk-toggleable__content {max-height: 0;max-width: 0;overflow: hidden;text-align: left;background-color: #f0f8ff;}#sk-container-id-2 div.sk-toggleable__content pre {margin: 0.2em;color: black;border-radius: 0.25em;background-color: #f0f8ff;}#sk-container-id-2 input.sk-toggleable__control:checked~div.sk-toggleable__content {max-height: 200px;max-width: 100%;overflow: auto;}#sk-container-id-2 input.sk-toggleable__control:checked~label.sk-toggleable__label-arrow:before {content: \"▾\";}#sk-container-id-2 div.sk-estimator input.sk-toggleable__control:checked~label.sk-toggleable__label {background-color: #d4ebff;}#sk-container-id-2 div.sk-label input.sk-toggleable__control:checked~label.sk-toggleable__label {background-color: #d4ebff;}#sk-container-id-2 input.sk-hidden--visually {border: 0;clip: rect(1px 1px 1px 1px);clip: rect(1px, 1px, 1px, 1px);height: 1px;margin: -1px;overflow: hidden;padding: 0;position: absolute;width: 1px;}#sk-container-id-2 div.sk-estimator {font-family: monospace;background-color: #f0f8ff;border: 1px dotted black;border-radius: 0.25em;box-sizing: border-box;margin-bottom: 0.5em;}#sk-container-id-2 div.sk-estimator:hover {background-color: #d4ebff;}#sk-container-id-2 div.sk-parallel-item::after {content: \"\";width: 100%;border-bottom: 1px solid gray;flex-grow: 1;}#sk-container-id-2 div.sk-label:hover label.sk-toggleable__label {background-color: #d4ebff;}#sk-container-id-2 div.sk-serial::before {content: \"\";position: absolute;border-left: 1px solid gray;box-sizing: border-box;top: 0;bottom: 0;left: 50%;z-index: 0;}#sk-container-id-2 div.sk-serial {display: flex;flex-direction: column;align-items: center;background-color: white;padding-right: 0.2em;padding-left: 0.2em;position: relative;}#sk-container-id-2 div.sk-item {position: relative;z-index: 1;}#sk-container-id-2 div.sk-parallel {display: flex;align-items: stretch;justify-content: center;background-color: white;position: relative;}#sk-container-id-2 div.sk-item::before, #sk-container-id-2 div.sk-parallel-item::before {content: \"\";position: absolute;border-left: 1px solid gray;box-sizing: border-box;top: 0;bottom: 0;left: 50%;z-index: -1;}#sk-container-id-2 div.sk-parallel-item {display: flex;flex-direction: column;z-index: 1;position: relative;background-color: white;}#sk-container-id-2 div.sk-parallel-item:first-child::after {align-self: flex-end;width: 50%;}#sk-container-id-2 div.sk-parallel-item:last-child::after {align-self: flex-start;width: 50%;}#sk-container-id-2 div.sk-parallel-item:only-child::after {width: 0;}#sk-container-id-2 div.sk-dashed-wrapped {border: 1px dashed gray;margin: 0 0.4em 0.5em 0.4em;box-sizing: border-box;padding-bottom: 0.4em;background-color: white;}#sk-container-id-2 div.sk-label label {font-family: monospace;font-weight: bold;display: inline-block;line-height: 1.2em;}#sk-container-id-2 div.sk-label-container {text-align: center;}#sk-container-id-2 div.sk-container {/* jupyter's `normalize.less` sets `[hidden] { display: none; }` but bootstrap.min.css set `[hidden] { display: none !important; }` so we also need the `!important` here to be able to override the default hidden behavior on the sphinx rendered scikit-learn.org. See: https://github.com/scikit-learn/scikit-learn/issues/21755 */display: inline-block !important;position: relative;}#sk-container-id-2 div.sk-text-repr-fallback {display: none;}</style><div id=\"sk-container-id-2\" class=\"sk-top-container\"><div class=\"sk-text-repr-fallback\"><pre>GridSearchCV(cv=5, estimator=DecisionTreeClassifier(random_state=123),\n",
       "             param_grid={&#x27;max_depth&#x27;: [None, 10, 20, 30, 40],\n",
       "                         &#x27;min_samples_leaf&#x27;: [1, 5, 10],\n",
       "                         &#x27;min_samples_split&#x27;: [2, 10, 20]},\n",
       "             scoring=&#x27;accuracy&#x27;, verbose=1)</pre><b>In a Jupyter environment, please rerun this cell to show the HTML representation or trust the notebook. <br />On GitHub, the HTML representation is unable to render, please try loading this page with nbviewer.org.</b></div><div class=\"sk-container\" hidden><div class=\"sk-item sk-dashed-wrapped\"><div class=\"sk-label-container\"><div class=\"sk-label sk-toggleable\"><input class=\"sk-toggleable__control sk-hidden--visually\" id=\"sk-estimator-id-2\" type=\"checkbox\" ><label for=\"sk-estimator-id-2\" class=\"sk-toggleable__label sk-toggleable__label-arrow\">GridSearchCV</label><div class=\"sk-toggleable__content\"><pre>GridSearchCV(cv=5, estimator=DecisionTreeClassifier(random_state=123),\n",
       "             param_grid={&#x27;max_depth&#x27;: [None, 10, 20, 30, 40],\n",
       "                         &#x27;min_samples_leaf&#x27;: [1, 5, 10],\n",
       "                         &#x27;min_samples_split&#x27;: [2, 10, 20]},\n",
       "             scoring=&#x27;accuracy&#x27;, verbose=1)</pre></div></div></div><div class=\"sk-parallel\"><div class=\"sk-parallel-item\"><div class=\"sk-item\"><div class=\"sk-label-container\"><div class=\"sk-label sk-toggleable\"><input class=\"sk-toggleable__control sk-hidden--visually\" id=\"sk-estimator-id-3\" type=\"checkbox\" ><label for=\"sk-estimator-id-3\" class=\"sk-toggleable__label sk-toggleable__label-arrow\">estimator: DecisionTreeClassifier</label><div class=\"sk-toggleable__content\"><pre>DecisionTreeClassifier(random_state=123)</pre></div></div></div><div class=\"sk-serial\"><div class=\"sk-item\"><div class=\"sk-estimator sk-toggleable\"><input class=\"sk-toggleable__control sk-hidden--visually\" id=\"sk-estimator-id-4\" type=\"checkbox\" ><label for=\"sk-estimator-id-4\" class=\"sk-toggleable__label sk-toggleable__label-arrow\">DecisionTreeClassifier</label><div class=\"sk-toggleable__content\"><pre>DecisionTreeClassifier(random_state=123)</pre></div></div></div></div></div></div></div></div></div></div>"
      ],
      "text/plain": [
       "GridSearchCV(cv=5, estimator=DecisionTreeClassifier(random_state=123),\n",
       "             param_grid={'max_depth': [None, 10, 20, 30, 40],\n",
       "                         'min_samples_leaf': [1, 5, 10],\n",
       "                         'min_samples_split': [2, 10, 20]},\n",
       "             scoring='accuracy', verbose=1)"
      ]
     },
     "execution_count": 38,
     "metadata": {},
     "output_type": "execute_result"
    }
   ],
   "source": [
    "# Do a grid search to get the best parameters\n",
    "from sklearn.model_selection import GridSearchCV\n",
    "param_grid = {\n",
    "    'max_depth': [None, 10, 20, 30, 40],\n",
    "    'min_samples_split': [2, 10, 20],\n",
    "    'min_samples_leaf': [1, 5, 10]\n",
    "}\n",
    "grid_search = GridSearchCV(DecisionTreeClassifier(random_state=123), param_grid, cv=5, scoring='accuracy', verbose=1)\n",
    "grid_search.fit(X_train_scaled, y_train)"
   ]
  },
  {
   "cell_type": "code",
   "execution_count": 39,
   "id": "6514b4cc-6ea2-427b-a37e-e1b11c1540e7",
   "metadata": {
    "tags": []
   },
   "outputs": [
    {
     "data": {
      "text/plain": [
       "{'max_depth': 10, 'min_samples_leaf': 5, 'min_samples_split': 20}"
      ]
     },
     "execution_count": 39,
     "metadata": {},
     "output_type": "execute_result"
    }
   ],
   "source": [
    "# Show the best parameters\n",
    "grid_search.best_params_"
   ]
  },
  {
   "cell_type": "code",
   "execution_count": 40,
   "id": "b0393d54-e26f-4b2b-878c-f177bb1ed395",
   "metadata": {
    "tags": []
   },
   "outputs": [
    {
     "name": "stdout",
     "output_type": "stream",
     "text": [
      "              precision    recall  f1-score   support\n",
      "\n",
      "           0       0.80      0.82      0.81      7018\n",
      "           1       0.65      0.62      0.63      3779\n",
      "\n",
      "    accuracy                           0.75     10797\n",
      "   macro avg       0.73      0.72      0.72     10797\n",
      "weighted avg       0.75      0.75      0.75     10797\n",
      "\n"
     ]
    }
   ],
   "source": [
    "# Train the model based on the best parameters. We get 75% accuracy now which is by far our best model yet.\n",
    "dt_model = DecisionTreeClassifier(random_state=123, max_depth=10, min_samples_leaf=10, min_samples_split=2)\n",
    "dt_model.fit(X_train_scaled, y_train)\n",
    "y_pred_dt = dt_model.predict(X_test_scaled)\n",
    "print(classification_report(y_test, y_pred_dt))"
   ]
  },
  {
   "cell_type": "markdown",
   "id": "1b14b9db-f823-4620-a8c6-1305e37b25ce",
   "metadata": {},
   "source": [
    "Neural Network"
   ]
  },
  {
   "cell_type": "code",
   "execution_count": 42,
   "id": "b2685f4e-ff5a-4143-82e8-bc108c2f10eb",
   "metadata": {
    "tags": []
   },
   "outputs": [
    {
     "name": "stdout",
     "output_type": "stream",
     "text": [
      "              precision    recall  f1-score   support\n",
      "\n",
      "           0       0.69      0.76      0.72      7018\n",
      "           1       0.45      0.36      0.40      3779\n",
      "\n",
      "    accuracy                           0.62     10797\n",
      "   macro avg       0.57      0.56      0.56     10797\n",
      "weighted avg       0.61      0.62      0.61     10797\n",
      "\n"
     ]
    }
   ],
   "source": [
    "# Basic neural network gets 61% accuracy. Let's optimize it now.\n",
    "from sklearn.neural_network import MLPClassifier\n",
    "mlp_model = MLPClassifier(random_state=123, max_iter=1000)\n",
    "mlp_model.fit(X_train_scaled, y_train)\n",
    "y_pred_mlp = mlp_model.predict(X_test_scaled)\n",
    "print(classification_report(y_test, y_pred_mlp))"
   ]
  },
  {
   "cell_type": "code",
   "execution_count": 43,
   "id": "30e4f7b6-d7ce-4fb0-95b3-de9eb7633132",
   "metadata": {
    "tags": []
   },
   "outputs": [
    {
     "name": "stdout",
     "output_type": "stream",
     "text": [
      "Fitting 3 folds for each of 12 candidates, totalling 36 fits\n"
     ]
    },
    {
     "name": "stderr",
     "output_type": "stream",
     "text": [
      "C:\\Users\\mhpet\\anaconda3\\Lib\\site-packages\\sklearn\\neural_network\\_multilayer_perceptron.py:691: ConvergenceWarning: Stochastic Optimizer: Maximum iterations (1000) reached and the optimization hasn't converged yet.\n",
      "  warnings.warn(\n",
      "C:\\Users\\mhpet\\anaconda3\\Lib\\site-packages\\sklearn\\neural_network\\_multilayer_perceptron.py:691: ConvergenceWarning: Stochastic Optimizer: Maximum iterations (1000) reached and the optimization hasn't converged yet.\n",
      "  warnings.warn(\n",
      "C:\\Users\\mhpet\\anaconda3\\Lib\\site-packages\\sklearn\\neural_network\\_multilayer_perceptron.py:691: ConvergenceWarning: Stochastic Optimizer: Maximum iterations (1000) reached and the optimization hasn't converged yet.\n",
      "  warnings.warn(\n"
     ]
    },
    {
     "data": {
      "text/html": [
       "<style>#sk-container-id-3 {color: black;}#sk-container-id-3 pre{padding: 0;}#sk-container-id-3 div.sk-toggleable {background-color: white;}#sk-container-id-3 label.sk-toggleable__label {cursor: pointer;display: block;width: 100%;margin-bottom: 0;padding: 0.3em;box-sizing: border-box;text-align: center;}#sk-container-id-3 label.sk-toggleable__label-arrow:before {content: \"▸\";float: left;margin-right: 0.25em;color: #696969;}#sk-container-id-3 label.sk-toggleable__label-arrow:hover:before {color: black;}#sk-container-id-3 div.sk-estimator:hover label.sk-toggleable__label-arrow:before {color: black;}#sk-container-id-3 div.sk-toggleable__content {max-height: 0;max-width: 0;overflow: hidden;text-align: left;background-color: #f0f8ff;}#sk-container-id-3 div.sk-toggleable__content pre {margin: 0.2em;color: black;border-radius: 0.25em;background-color: #f0f8ff;}#sk-container-id-3 input.sk-toggleable__control:checked~div.sk-toggleable__content {max-height: 200px;max-width: 100%;overflow: auto;}#sk-container-id-3 input.sk-toggleable__control:checked~label.sk-toggleable__label-arrow:before {content: \"▾\";}#sk-container-id-3 div.sk-estimator input.sk-toggleable__control:checked~label.sk-toggleable__label {background-color: #d4ebff;}#sk-container-id-3 div.sk-label input.sk-toggleable__control:checked~label.sk-toggleable__label {background-color: #d4ebff;}#sk-container-id-3 input.sk-hidden--visually {border: 0;clip: rect(1px 1px 1px 1px);clip: rect(1px, 1px, 1px, 1px);height: 1px;margin: -1px;overflow: hidden;padding: 0;position: absolute;width: 1px;}#sk-container-id-3 div.sk-estimator {font-family: monospace;background-color: #f0f8ff;border: 1px dotted black;border-radius: 0.25em;box-sizing: border-box;margin-bottom: 0.5em;}#sk-container-id-3 div.sk-estimator:hover {background-color: #d4ebff;}#sk-container-id-3 div.sk-parallel-item::after {content: \"\";width: 100%;border-bottom: 1px solid gray;flex-grow: 1;}#sk-container-id-3 div.sk-label:hover label.sk-toggleable__label {background-color: #d4ebff;}#sk-container-id-3 div.sk-serial::before {content: \"\";position: absolute;border-left: 1px solid gray;box-sizing: border-box;top: 0;bottom: 0;left: 50%;z-index: 0;}#sk-container-id-3 div.sk-serial {display: flex;flex-direction: column;align-items: center;background-color: white;padding-right: 0.2em;padding-left: 0.2em;position: relative;}#sk-container-id-3 div.sk-item {position: relative;z-index: 1;}#sk-container-id-3 div.sk-parallel {display: flex;align-items: stretch;justify-content: center;background-color: white;position: relative;}#sk-container-id-3 div.sk-item::before, #sk-container-id-3 div.sk-parallel-item::before {content: \"\";position: absolute;border-left: 1px solid gray;box-sizing: border-box;top: 0;bottom: 0;left: 50%;z-index: -1;}#sk-container-id-3 div.sk-parallel-item {display: flex;flex-direction: column;z-index: 1;position: relative;background-color: white;}#sk-container-id-3 div.sk-parallel-item:first-child::after {align-self: flex-end;width: 50%;}#sk-container-id-3 div.sk-parallel-item:last-child::after {align-self: flex-start;width: 50%;}#sk-container-id-3 div.sk-parallel-item:only-child::after {width: 0;}#sk-container-id-3 div.sk-dashed-wrapped {border: 1px dashed gray;margin: 0 0.4em 0.5em 0.4em;box-sizing: border-box;padding-bottom: 0.4em;background-color: white;}#sk-container-id-3 div.sk-label label {font-family: monospace;font-weight: bold;display: inline-block;line-height: 1.2em;}#sk-container-id-3 div.sk-label-container {text-align: center;}#sk-container-id-3 div.sk-container {/* jupyter's `normalize.less` sets `[hidden] { display: none; }` but bootstrap.min.css set `[hidden] { display: none !important; }` so we also need the `!important` here to be able to override the default hidden behavior on the sphinx rendered scikit-learn.org. See: https://github.com/scikit-learn/scikit-learn/issues/21755 */display: inline-block !important;position: relative;}#sk-container-id-3 div.sk-text-repr-fallback {display: none;}</style><div id=\"sk-container-id-3\" class=\"sk-top-container\"><div class=\"sk-text-repr-fallback\"><pre>GridSearchCV(cv=3, estimator=MLPClassifier(max_iter=1000, random_state=123),\n",
       "             param_grid={&#x27;activation&#x27;: [&#x27;relu&#x27;, &#x27;tanh&#x27;],\n",
       "                         &#x27;hidden_layer_sizes&#x27;: [(100,), (50, 50), (30, 30, 30)],\n",
       "                         &#x27;learning_rate_init&#x27;: [0.001, 0.01]},\n",
       "             scoring=&#x27;accuracy&#x27;, verbose=1)</pre><b>In a Jupyter environment, please rerun this cell to show the HTML representation or trust the notebook. <br />On GitHub, the HTML representation is unable to render, please try loading this page with nbviewer.org.</b></div><div class=\"sk-container\" hidden><div class=\"sk-item sk-dashed-wrapped\"><div class=\"sk-label-container\"><div class=\"sk-label sk-toggleable\"><input class=\"sk-toggleable__control sk-hidden--visually\" id=\"sk-estimator-id-5\" type=\"checkbox\" ><label for=\"sk-estimator-id-5\" class=\"sk-toggleable__label sk-toggleable__label-arrow\">GridSearchCV</label><div class=\"sk-toggleable__content\"><pre>GridSearchCV(cv=3, estimator=MLPClassifier(max_iter=1000, random_state=123),\n",
       "             param_grid={&#x27;activation&#x27;: [&#x27;relu&#x27;, &#x27;tanh&#x27;],\n",
       "                         &#x27;hidden_layer_sizes&#x27;: [(100,), (50, 50), (30, 30, 30)],\n",
       "                         &#x27;learning_rate_init&#x27;: [0.001, 0.01]},\n",
       "             scoring=&#x27;accuracy&#x27;, verbose=1)</pre></div></div></div><div class=\"sk-parallel\"><div class=\"sk-parallel-item\"><div class=\"sk-item\"><div class=\"sk-label-container\"><div class=\"sk-label sk-toggleable\"><input class=\"sk-toggleable__control sk-hidden--visually\" id=\"sk-estimator-id-6\" type=\"checkbox\" ><label for=\"sk-estimator-id-6\" class=\"sk-toggleable__label sk-toggleable__label-arrow\">estimator: MLPClassifier</label><div class=\"sk-toggleable__content\"><pre>MLPClassifier(max_iter=1000, random_state=123)</pre></div></div></div><div class=\"sk-serial\"><div class=\"sk-item\"><div class=\"sk-estimator sk-toggleable\"><input class=\"sk-toggleable__control sk-hidden--visually\" id=\"sk-estimator-id-7\" type=\"checkbox\" ><label for=\"sk-estimator-id-7\" class=\"sk-toggleable__label sk-toggleable__label-arrow\">MLPClassifier</label><div class=\"sk-toggleable__content\"><pre>MLPClassifier(max_iter=1000, random_state=123)</pre></div></div></div></div></div></div></div></div></div></div>"
      ],
      "text/plain": [
       "GridSearchCV(cv=3, estimator=MLPClassifier(max_iter=1000, random_state=123),\n",
       "             param_grid={'activation': ['relu', 'tanh'],\n",
       "                         'hidden_layer_sizes': [(100,), (50, 50), (30, 30, 30)],\n",
       "                         'learning_rate_init': [0.001, 0.01]},\n",
       "             scoring='accuracy', verbose=1)"
      ]
     },
     "execution_count": 43,
     "metadata": {},
     "output_type": "execute_result"
    }
   ],
   "source": [
    "mlp_param_grid = {\n",
    "    'hidden_layer_sizes': [(100,), (50, 50), (30, 30, 30)],\n",
    "    'activation': ['relu', 'tanh'],\n",
    "    'learning_rate_init': [0.001, 0.01]\n",
    "}\n",
    "mlp_grid_search = GridSearchCV(MLPClassifier(random_state=123, max_iter=1000), mlp_param_grid, cv=3, scoring='accuracy', verbose=1)\n",
    "mlp_grid_search.fit(X_train_scaled, y_train)"
   ]
  },
  {
   "cell_type": "code",
   "execution_count": 81,
   "id": "6b7981d8-f55f-4089-b4a0-5697b3661b59",
   "metadata": {
    "tags": []
   },
   "outputs": [
    {
     "data": {
      "text/plain": [
       "{'activation': 'tanh',\n",
       " 'hidden_layer_sizes': (100,),\n",
       " 'learning_rate_init': 0.01}"
      ]
     },
     "execution_count": 81,
     "metadata": {},
     "output_type": "execute_result"
    }
   ],
   "source": [
    "# Get the optimized parameters\n",
    "mlp_grid_search.best_params_"
   ]
  },
  {
   "cell_type": "code",
   "execution_count": 85,
   "id": "a04204e0-edd8-449f-b9ba-ea79cbb1415f",
   "metadata": {
    "tags": []
   },
   "outputs": [
    {
     "name": "stdout",
     "output_type": "stream",
     "text": [
      "              precision    recall  f1-score   support\n",
      "\n",
      "           0       0.69      0.83      0.75      7018\n",
      "           1       0.48      0.30      0.37      3779\n",
      "\n",
      "    accuracy                           0.64     10797\n",
      "   macro avg       0.58      0.56      0.56     10797\n",
      "weighted avg       0.61      0.64      0.61     10797\n",
      "\n"
     ]
    }
   ],
   "source": [
    "# Fit the model with optimized parameters. It didn't improve that much (64% accuracy).\n",
    "from sklearn.neural_network import MLPClassifier\n",
    "mlp_model = MLPClassifier(random_state=123, max_iter=1000, activation='tanh', hidden_layer_sizes=(100,), learning_rate_init=0.01)\n",
    "mlp_model.fit(X_train_scaled, y_train)\n",
    "y_pred_mlp = mlp_model.predict(X_test_scaled)\n",
    "print(classification_report(y_test, y_pred_mlp))"
   ]
  },
  {
   "cell_type": "markdown",
   "id": "9a7a6aa2-f345-4b7a-a866-a122addf6205",
   "metadata": {},
   "source": [
    "Question 4: Assessment and Evaluation"
   ]
  },
  {
   "cell_type": "markdown",
   "id": "f6792a00-670a-463f-8087-dd21fa0bd8eb",
   "metadata": {},
   "source": [
    "I think the optimized decision tree is the best, as it had 75% accuracy."
   ]
  },
  {
   "cell_type": "markdown",
   "id": "56edc1b0-6ad4-479a-ac3a-171cbe68a5d3",
   "metadata": {},
   "source": [
    "Logistic regression comes in 2nd with 65% accuracy."
   ]
  },
  {
   "cell_type": "markdown",
   "id": "ad3b6bd6-f80f-421f-b7b0-1989330abc3f",
   "metadata": {},
   "source": [
    "The optimized neural network is in 3rd with 64% accuracy. It could likely be improved through further parameter tuning, but even as is, it took like 30 minutes to run the grid search. Not very efficient."
   ]
  },
  {
   "cell_type": "markdown",
   "id": "6d18bbd2-8540-44ef-a8dd-7f216a2c821c",
   "metadata": {},
   "source": [
    "Naive bayes is the worst with only a 57% accuracy rate."
   ]
  }
 ],
 "metadata": {
  "kernelspec": {
   "display_name": "Python 3 (ipykernel)",
   "language": "python",
   "name": "python3"
  },
  "language_info": {
   "codemirror_mode": {
    "name": "ipython",
    "version": 3
   },
   "file_extension": ".py",
   "mimetype": "text/x-python",
   "name": "python",
   "nbconvert_exporter": "python",
   "pygments_lexer": "ipython3",
   "version": "3.11.5"
  }
 },
 "nbformat": 4,
 "nbformat_minor": 5
}
